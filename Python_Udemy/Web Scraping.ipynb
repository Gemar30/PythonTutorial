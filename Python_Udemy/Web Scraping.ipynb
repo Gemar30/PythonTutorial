{
 "cells": [
  {
   "cell_type": "code",
   "execution_count": 42,
   "id": "de1ed487-5ed6-4591-a9e9-7bcbad0b0407",
   "metadata": {},
   "outputs": [],
   "source": [
    "import pandas as pd\n",
    "import matplotlib.pyplot as plt"
   ]
  },
  {
   "cell_type": "code",
   "execution_count": 18,
   "id": "29d17693-36e4-4a82-9899-6d6af4c9f3c5",
   "metadata": {},
   "outputs": [],
   "source": [
    "data = pd.read_html('https://en.wikipedia.org/wiki/Programming_languages_used_in_most_popular_websites')"
   ]
  },
  {
   "cell_type": "code",
   "execution_count": 19,
   "id": "ecee1ee0-7b64-4359-b95a-f4de71c33796",
   "metadata": {},
   "outputs": [
    {
     "data": {
      "text/plain": [
       "[         Websites  Popularity(unique visitors per month)[1]  \\\n",
       " 0       Google[2]                                1600000000   \n",
       " 1        Facebook                                1120000000   \n",
       " 2         YouTube                                1100000000   \n",
       " 3           Yahoo                                 750000000   \n",
       " 4          Amazon                                 500000000   \n",
       " 5       Wikipedia                                 475000000   \n",
       " 6         Twitter                                 290000000   \n",
       " 7            Bing                                 285000000   \n",
       " 8            eBay                                 285000000   \n",
       " 9             MSN                                 280000000   \n",
       " 10       LinkedIn                                 260000000   \n",
       " 11      Pinterest                                 250000000   \n",
       " 12  WordPress.com                                 240000000   \n",
       " \n",
       "     Front-end(Client-side)                              Back-end(Server-side)  \\\n",
       " 0   JavaScript, TypeScript                  C, C++, Go,[3] Java, Python, Node   \n",
       " 1         JavaScript, Flow  Hack, PHP (HHVM), Python, C++, Java, Erlang, D...   \n",
       " 2               JavaScript                   C, C++, Python, Java,[11] Go[12]   \n",
       " 3               JavaScript                                                PHP   \n",
       " 4               JavaScript                                Java, C++, Perl[15]   \n",
       " 5               JavaScript                                                PHP   \n",
       " 6               JavaScript                     C++, Java,[18] Scala,[19] Ruby   \n",
       " 7               JavaScript                                            C++, C#   \n",
       " 8               JavaScript                Java,[21] JavaScript,[22] Scala[23]   \n",
       " 9               JavaScript                                                 C#   \n",
       " 10              JavaScript                        Java, JavaScript,[24] Scala   \n",
       " 11              JavaScript                        Python (Django),[27] Erlang   \n",
       " 12              JavaScript                                                PHP   \n",
       " \n",
       "                                       Database  \\\n",
       " 0                      Bigtable,[4] MariaDB[5]   \n",
       " 1      MariaDB, MySQL,[9] HBase, Cassandra[10]   \n",
       " 2             Vitess, BigTable, MariaDB[5][13]   \n",
       " 3   PostgreSQL, HBase, Cassandra, MongoDB,[14]   \n",
       " 4           DynamoDB, RDS/Aurora, Redshift[16]   \n",
       " 5                                  MariaDB[17]   \n",
       " 6                                    MySQL[20]   \n",
       " 7              Microsoft SQL Server, Cosmos DB   \n",
       " 8                              Oracle Database   \n",
       " 9                         Microsoft SQL Server   \n",
       " 10                              Venice[25][26]   \n",
       " 11                            MySQL, Redis[28]   \n",
       " 12                                 MariaDB[29]   \n",
       " \n",
       "                                                 Notes  \n",
       " 0            The most used search engine in the world  \n",
       " 1             The most visited social networking site  \n",
       " 2   The most popular video sharing site [YouTube i...  \n",
       " 3                                                 NaN  \n",
       " 4                      Popular Internet shopping site  \n",
       " 5   A free online encyclopedia based on MediaWiki,...  \n",
       " 6                              Popular social network  \n",
       " 7                       Search engine from Microsoft.  \n",
       " 8                               Online auction house.  \n",
       " 9   An email client, for simple use. Previously kn...  \n",
       " 10              World's largest professional network.  \n",
       " 11                           Search engine for ideas.  \n",
       " 12                          Website manager software.  ,\n",
       "          Websites   C#    C  C++    D Erlang   Go Hack Java JavaScript Perl  \\\n",
       " 0          Google   No  Yes  Yes   No     No  Yes   No  Yes        Yes   No   \n",
       " 1         YouTube   No  Yes  Yes   No     No  Yes   No  Yes         No   No   \n",
       " 2        Facebook   No   No  Yes  Yes    Yes  Yes  Yes  Yes         No   No   \n",
       " 3           Yahoo   No  Yes  Yes   No     No  Yes   No  Yes        Yes  Yes   \n",
       " 4          Amazon   No   No  Yes   No     No   No   No  Yes         No  Yes   \n",
       " 5       Wikipedia   No   No   No   No     No   No   No   No         No   No   \n",
       " 6         Twitter   No   No  Yes   No     No   No   No  Yes         No   No   \n",
       " 7            Bing  Yes   No  Yes   No     No   No   No   No         No   No   \n",
       " 8            eBay   No   No   No   No     No   No   No  Yes        Yes   No   \n",
       " 9             MSN  Yes   No   No   No     No   No   No   No         No   No   \n",
       " 10       LinkedIn   No   No   No   No     No   No   No  Yes        Yes   No   \n",
       " 11      Pinterest   No   No   No   No    Yes   No   No   No         No   No   \n",
       " 12  WordPress.com   No   No   No   No     No   No   No   No         No   No   \n",
       " \n",
       "     PHP Python Ruby Scala  XHP  \n",
       " 0    No    Yes   No    No   No  \n",
       " 1    No    Yes   No    No   No  \n",
       " 2   Yes    Yes   No    No  Yes  \n",
       " 3   Yes    Yes  Yes   Yes   No  \n",
       " 4    No     No   No    No   No  \n",
       " 5   Yes     No   No    No   No  \n",
       " 6    No     No  Yes   Yes   No  \n",
       " 7    No     No   No    No   No  \n",
       " 8    No     No   No   Yes   No  \n",
       " 9    No     No   No    No   No  \n",
       " 10   No     No   No   Yes   No  \n",
       " 11   No    Yes   No    No   No  \n",
       " 12  Yes     No   No    No   No  ]"
      ]
     },
     "execution_count": 19,
     "metadata": {},
     "output_type": "execute_result"
    }
   ],
   "source": [
    "data"
   ]
  },
  {
   "cell_type": "code",
   "execution_count": 20,
   "id": "41d0e070-60d9-484a-bb8c-666086af2b6d",
   "metadata": {},
   "outputs": [],
   "source": [
    "df = data[0]"
   ]
  },
  {
   "cell_type": "code",
   "execution_count": 21,
   "id": "05cfe030-4e19-461d-b506-a3c9fa185218",
   "metadata": {},
   "outputs": [
    {
     "data": {
      "text/html": [
       "<div>\n",
       "<style scoped>\n",
       "    .dataframe tbody tr th:only-of-type {\n",
       "        vertical-align: middle;\n",
       "    }\n",
       "\n",
       "    .dataframe tbody tr th {\n",
       "        vertical-align: top;\n",
       "    }\n",
       "\n",
       "    .dataframe thead th {\n",
       "        text-align: right;\n",
       "    }\n",
       "</style>\n",
       "<table border=\"1\" class=\"dataframe\">\n",
       "  <thead>\n",
       "    <tr style=\"text-align: right;\">\n",
       "      <th></th>\n",
       "      <th>Websites</th>\n",
       "      <th>Popularity(unique visitors per month)[1]</th>\n",
       "      <th>Front-end(Client-side)</th>\n",
       "      <th>Back-end(Server-side)</th>\n",
       "      <th>Database</th>\n",
       "      <th>Notes</th>\n",
       "    </tr>\n",
       "  </thead>\n",
       "  <tbody>\n",
       "    <tr>\n",
       "      <th>0</th>\n",
       "      <td>Google[2]</td>\n",
       "      <td>1600000000</td>\n",
       "      <td>JavaScript, TypeScript</td>\n",
       "      <td>C, C++, Go,[3] Java, Python, Node</td>\n",
       "      <td>Bigtable,[4] MariaDB[5]</td>\n",
       "      <td>The most used search engine in the world</td>\n",
       "    </tr>\n",
       "    <tr>\n",
       "      <th>1</th>\n",
       "      <td>Facebook</td>\n",
       "      <td>1120000000</td>\n",
       "      <td>JavaScript, Flow</td>\n",
       "      <td>Hack, PHP (HHVM), Python, C++, Java, Erlang, D...</td>\n",
       "      <td>MariaDB, MySQL,[9] HBase, Cassandra[10]</td>\n",
       "      <td>The most visited social networking site</td>\n",
       "    </tr>\n",
       "    <tr>\n",
       "      <th>2</th>\n",
       "      <td>YouTube</td>\n",
       "      <td>1100000000</td>\n",
       "      <td>JavaScript</td>\n",
       "      <td>C, C++, Python, Java,[11] Go[12]</td>\n",
       "      <td>Vitess, BigTable, MariaDB[5][13]</td>\n",
       "      <td>The most popular video sharing site [YouTube i...</td>\n",
       "    </tr>\n",
       "    <tr>\n",
       "      <th>3</th>\n",
       "      <td>Yahoo</td>\n",
       "      <td>750000000</td>\n",
       "      <td>JavaScript</td>\n",
       "      <td>PHP</td>\n",
       "      <td>PostgreSQL, HBase, Cassandra, MongoDB,[14]</td>\n",
       "      <td>NaN</td>\n",
       "    </tr>\n",
       "    <tr>\n",
       "      <th>4</th>\n",
       "      <td>Amazon</td>\n",
       "      <td>500000000</td>\n",
       "      <td>JavaScript</td>\n",
       "      <td>Java, C++, Perl[15]</td>\n",
       "      <td>DynamoDB, RDS/Aurora, Redshift[16]</td>\n",
       "      <td>Popular Internet shopping site</td>\n",
       "    </tr>\n",
       "    <tr>\n",
       "      <th>5</th>\n",
       "      <td>Wikipedia</td>\n",
       "      <td>475000000</td>\n",
       "      <td>JavaScript</td>\n",
       "      <td>PHP</td>\n",
       "      <td>MariaDB[17]</td>\n",
       "      <td>A free online encyclopedia based on MediaWiki,...</td>\n",
       "    </tr>\n",
       "    <tr>\n",
       "      <th>6</th>\n",
       "      <td>Twitter</td>\n",
       "      <td>290000000</td>\n",
       "      <td>JavaScript</td>\n",
       "      <td>C++, Java,[18] Scala,[19] Ruby</td>\n",
       "      <td>MySQL[20]</td>\n",
       "      <td>Popular social network</td>\n",
       "    </tr>\n",
       "    <tr>\n",
       "      <th>7</th>\n",
       "      <td>Bing</td>\n",
       "      <td>285000000</td>\n",
       "      <td>JavaScript</td>\n",
       "      <td>C++, C#</td>\n",
       "      <td>Microsoft SQL Server, Cosmos DB</td>\n",
       "      <td>Search engine from Microsoft.</td>\n",
       "    </tr>\n",
       "    <tr>\n",
       "      <th>8</th>\n",
       "      <td>eBay</td>\n",
       "      <td>285000000</td>\n",
       "      <td>JavaScript</td>\n",
       "      <td>Java,[21] JavaScript,[22] Scala[23]</td>\n",
       "      <td>Oracle Database</td>\n",
       "      <td>Online auction house.</td>\n",
       "    </tr>\n",
       "    <tr>\n",
       "      <th>9</th>\n",
       "      <td>MSN</td>\n",
       "      <td>280000000</td>\n",
       "      <td>JavaScript</td>\n",
       "      <td>C#</td>\n",
       "      <td>Microsoft SQL Server</td>\n",
       "      <td>An email client, for simple use. Previously kn...</td>\n",
       "    </tr>\n",
       "    <tr>\n",
       "      <th>10</th>\n",
       "      <td>LinkedIn</td>\n",
       "      <td>260000000</td>\n",
       "      <td>JavaScript</td>\n",
       "      <td>Java, JavaScript,[24] Scala</td>\n",
       "      <td>Venice[25][26]</td>\n",
       "      <td>World's largest professional network.</td>\n",
       "    </tr>\n",
       "    <tr>\n",
       "      <th>11</th>\n",
       "      <td>Pinterest</td>\n",
       "      <td>250000000</td>\n",
       "      <td>JavaScript</td>\n",
       "      <td>Python (Django),[27] Erlang</td>\n",
       "      <td>MySQL, Redis[28]</td>\n",
       "      <td>Search engine for ideas.</td>\n",
       "    </tr>\n",
       "    <tr>\n",
       "      <th>12</th>\n",
       "      <td>WordPress.com</td>\n",
       "      <td>240000000</td>\n",
       "      <td>JavaScript</td>\n",
       "      <td>PHP</td>\n",
       "      <td>MariaDB[29]</td>\n",
       "      <td>Website manager software.</td>\n",
       "    </tr>\n",
       "  </tbody>\n",
       "</table>\n",
       "</div>"
      ],
      "text/plain": [
       "         Websites  Popularity(unique visitors per month)[1]  \\\n",
       "0       Google[2]                                1600000000   \n",
       "1        Facebook                                1120000000   \n",
       "2         YouTube                                1100000000   \n",
       "3           Yahoo                                 750000000   \n",
       "4          Amazon                                 500000000   \n",
       "5       Wikipedia                                 475000000   \n",
       "6         Twitter                                 290000000   \n",
       "7            Bing                                 285000000   \n",
       "8            eBay                                 285000000   \n",
       "9             MSN                                 280000000   \n",
       "10       LinkedIn                                 260000000   \n",
       "11      Pinterest                                 250000000   \n",
       "12  WordPress.com                                 240000000   \n",
       "\n",
       "    Front-end(Client-side)                              Back-end(Server-side)  \\\n",
       "0   JavaScript, TypeScript                  C, C++, Go,[3] Java, Python, Node   \n",
       "1         JavaScript, Flow  Hack, PHP (HHVM), Python, C++, Java, Erlang, D...   \n",
       "2               JavaScript                   C, C++, Python, Java,[11] Go[12]   \n",
       "3               JavaScript                                                PHP   \n",
       "4               JavaScript                                Java, C++, Perl[15]   \n",
       "5               JavaScript                                                PHP   \n",
       "6               JavaScript                     C++, Java,[18] Scala,[19] Ruby   \n",
       "7               JavaScript                                            C++, C#   \n",
       "8               JavaScript                Java,[21] JavaScript,[22] Scala[23]   \n",
       "9               JavaScript                                                 C#   \n",
       "10              JavaScript                        Java, JavaScript,[24] Scala   \n",
       "11              JavaScript                        Python (Django),[27] Erlang   \n",
       "12              JavaScript                                                PHP   \n",
       "\n",
       "                                      Database  \\\n",
       "0                      Bigtable,[4] MariaDB[5]   \n",
       "1      MariaDB, MySQL,[9] HBase, Cassandra[10]   \n",
       "2             Vitess, BigTable, MariaDB[5][13]   \n",
       "3   PostgreSQL, HBase, Cassandra, MongoDB,[14]   \n",
       "4           DynamoDB, RDS/Aurora, Redshift[16]   \n",
       "5                                  MariaDB[17]   \n",
       "6                                    MySQL[20]   \n",
       "7              Microsoft SQL Server, Cosmos DB   \n",
       "8                              Oracle Database   \n",
       "9                         Microsoft SQL Server   \n",
       "10                              Venice[25][26]   \n",
       "11                            MySQL, Redis[28]   \n",
       "12                                 MariaDB[29]   \n",
       "\n",
       "                                                Notes  \n",
       "0            The most used search engine in the world  \n",
       "1             The most visited social networking site  \n",
       "2   The most popular video sharing site [YouTube i...  \n",
       "3                                                 NaN  \n",
       "4                      Popular Internet shopping site  \n",
       "5   A free online encyclopedia based on MediaWiki,...  \n",
       "6                              Popular social network  \n",
       "7                       Search engine from Microsoft.  \n",
       "8                               Online auction house.  \n",
       "9   An email client, for simple use. Previously kn...  \n",
       "10              World's largest professional network.  \n",
       "11                           Search engine for ideas.  \n",
       "12                          Website manager software.  "
      ]
     },
     "execution_count": 21,
     "metadata": {},
     "output_type": "execute_result"
    }
   ],
   "source": [
    "df"
   ]
  },
  {
   "cell_type": "code",
   "execution_count": 24,
   "id": "829dbced-d294-4ade-ad0f-7f08ec77fb72",
   "metadata": {},
   "outputs": [
    {
     "data": {
      "text/plain": [
       "0     1600000000\n",
       "1     1120000000\n",
       "2     1100000000\n",
       "3      750000000\n",
       "4      500000000\n",
       "5      475000000\n",
       "6      290000000\n",
       "7      285000000\n",
       "8      285000000\n",
       "9      280000000\n",
       "10     260000000\n",
       "11     250000000\n",
       "12     240000000\n",
       "Name: Popularity(unique visitors per month)[1], dtype: int64"
      ]
     },
     "execution_count": 24,
     "metadata": {},
     "output_type": "execute_result"
    }
   ],
   "source": [
    "df['Popularity(unique visitors per month)[1]']"
   ]
  },
  {
   "cell_type": "code",
   "execution_count": 25,
   "id": "b9ae8ef9-6764-493c-a61a-a3752f3124bb",
   "metadata": {},
   "outputs": [
    {
     "data": {
      "text/plain": [
       "0         Google[2]\n",
       "1          Facebook\n",
       "2           YouTube\n",
       "3             Yahoo\n",
       "4            Amazon\n",
       "5         Wikipedia\n",
       "6           Twitter\n",
       "7              Bing\n",
       "8              eBay\n",
       "9               MSN\n",
       "10         LinkedIn\n",
       "11        Pinterest\n",
       "12    WordPress.com\n",
       "Name: Websites, dtype: object"
      ]
     },
     "execution_count": 25,
     "metadata": {},
     "output_type": "execute_result"
    }
   ],
   "source": [
    "df.Websites"
   ]
  },
  {
   "cell_type": "code",
   "execution_count": 27,
   "id": "1216318b-f32b-4ff2-b7d8-36a0c8e61dc2",
   "metadata": {},
   "outputs": [
    {
     "data": {
      "text/plain": [
       "0                     C, C++, Go,[3] Java, Python, Node\n",
       "1     Hack, PHP (HHVM), Python, C++, Java, Erlang, D...\n",
       "2                      C, C++, Python, Java,[11] Go[12]\n",
       "3                                                   PHP\n",
       "4                                   Java, C++, Perl[15]\n",
       "5                                                   PHP\n",
       "6                        C++, Java,[18] Scala,[19] Ruby\n",
       "7                                               C++, C#\n",
       "8                   Java,[21] JavaScript,[22] Scala[23]\n",
       "9                                                    C#\n",
       "10                          Java, JavaScript,[24] Scala\n",
       "11                          Python (Django),[27] Erlang\n",
       "12                                                  PHP\n",
       "Name: Back-end(Server-side), dtype: object"
      ]
     },
     "execution_count": 27,
     "metadata": {},
     "output_type": "execute_result"
    }
   ],
   "source": [
    "df['Back-end(Server-side)']"
   ]
  },
  {
   "cell_type": "code",
   "execution_count": 28,
   "id": "f7f99a78-2822-47d1-99fe-782774abd2c5",
   "metadata": {},
   "outputs": [
    {
     "data": {
      "text/plain": [
       "571923076.9230769"
      ]
     },
     "execution_count": 28,
     "metadata": {},
     "output_type": "execute_result"
    }
   ],
   "source": [
    "df['Popularity(unique visitors per month)[1]'].mean()"
   ]
  },
  {
   "cell_type": "code",
   "execution_count": 38,
   "id": "d3c96cee-1129-4ef1-8f3d-28a61cb84072",
   "metadata": {},
   "outputs": [
    {
     "data": {
      "text/plain": [
       "290000000.0"
      ]
     },
     "execution_count": 38,
     "metadata": {},
     "output_type": "execute_result"
    }
   ],
   "source": [
    "df['Popularity(unique visitors per month)[1]'].median()"
   ]
  },
  {
   "cell_type": "code",
   "execution_count": 39,
   "id": "4051d152-5c19-46d5-82fa-e8dee373c4f9",
   "metadata": {},
   "outputs": [
    {
     "data": {
      "text/plain": [
       "439974139.6829404"
      ]
     },
     "execution_count": 39,
     "metadata": {},
     "output_type": "execute_result"
    }
   ],
   "source": [
    "df['Popularity(unique visitors per month)[1]'].std()"
   ]
  },
  {
   "cell_type": "code",
   "execution_count": 40,
   "id": "1cc9665a-b406-4c63-95a5-8511efade5e4",
   "metadata": {},
   "outputs": [
    {
     "data": {
      "text/plain": [
       "count    1.300000e+01\n",
       "mean     5.719231e+08\n",
       "std      4.399741e+08\n",
       "min      2.400000e+08\n",
       "25%      2.800000e+08\n",
       "50%      2.900000e+08\n",
       "75%      7.500000e+08\n",
       "max      1.600000e+09\n",
       "Name: Popularity(unique visitors per month)[1], dtype: float64"
      ]
     },
     "execution_count": 40,
     "metadata": {},
     "output_type": "execute_result"
    }
   ],
   "source": [
    "df['Popularity(unique visitors per month)[1]'].describe()"
   ]
  },
  {
   "cell_type": "code",
   "execution_count": 41,
   "id": "b128cfd9-3f96-4dce-9e90-6092e8837edd",
   "metadata": {},
   "outputs": [
    {
     "data": {
      "text/plain": [
       "1.9357724358974358e+17"
      ]
     },
     "execution_count": 41,
     "metadata": {},
     "output_type": "execute_result"
    }
   ],
   "source": [
    "df['Popularity(unique visitors per month)[1]'].var()"
   ]
  },
  {
   "cell_type": "code",
   "execution_count": 44,
   "id": "59a9dbc8-40a3-470b-8b7c-2e6e1fa01626",
   "metadata": {},
   "outputs": [
    {
     "data": {
      "text/plain": [
       "<function matplotlib.pyplot.show(close=None, block=None)>"
      ]
     },
     "execution_count": 44,
     "metadata": {},
     "output_type": "execute_result"
    },
    {
     "data": {
      "image/png": "[encoded data removed]",
      "text/plain": [
       "<Figure size 432x288 with 1 Axes>"
      ]
     },
     "metadata": {},
     "output_type": "display_data"
    }
   ],
   "source": [
    "websites = df['Websites']\n",
    "unique_visitors_per_month = df['Popularity(unique visitors per month)[1]']\n",
    "exp = [0.25,0.25,0.25,0,0,0,0,0,0,0,0,0,0]\n",
    "plt.pie(unique_visitors_per_month, labels= websites, shadow = True, radius=2, autopct= '%2.1f%%', explode= exp)\n",
    "plt.show"
   ]
  },
  {
   "cell_type": "code",
   "execution_count": null,
   "id": "2c0d29d8-65df-4baa-abe3-b42cb1e16070",
   "metadata": {},
   "outputs": [],
   "source": []
  }
 ],
 "metadata": {
  "kernelspec": {
   "display_name": "Python 3 (ipykernel)",
   "language": "python",
   "name": "python3"
  },
  "language_info": {
   "codemirror_mode": {
    "name": "ipython",
    "version": 3
   },
   "file_extension": ".py",
   "mimetype": "text/x-python",
   "name": "python",
   "nbconvert_exporter": "python",
   "pygments_lexer": "ipython3",
   "version": "3.9.0"
  }
 },
 "nbformat": 4,
 "nbformat_minor": 5
}
