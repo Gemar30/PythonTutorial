{
 "cells": [
  {
   "cell_type": "code",
   "execution_count": 1,
   "id": "666a1578-b601-4b40-bf49-dca90270b9ca",
   "metadata": {},
   "outputs": [],
   "source": [
    "import pandas as pd"
   ]
  },
  {
   "cell_type": "code",
   "execution_count": 2,
   "id": "6555f0c7-18b1-42ee-ac0f-3f14b618abe2",
   "metadata": {},
   "outputs": [],
   "source": [
    "df = pd.read_csv('airlines_data_part.csv')"
   ]
  },
  {
   "cell_type": "code",
   "execution_count": 3,
   "id": "4b7ea042-e414-4f60-9684-ed4d27989e0e",
   "metadata": {},
   "outputs": [
    {
     "data": {
      "text/plain": [
       "passenger_name     object\n",
       "day                 int64\n",
       "month               int64\n",
       "departure_city     object\n",
       "arrival_city       object\n",
       "sales             float64\n",
       "dtype: object"
      ]
     },
     "execution_count": 3,
     "metadata": {},
     "output_type": "execute_result"
    }
   ],
   "source": [
    "df.dtypes"
   ]
  },
  {
   "cell_type": "code",
   "execution_count": 6,
   "id": "f04784e8-dc95-42c1-8a4e-00524a94c63c",
   "metadata": {},
   "outputs": [
    {
     "data": {
      "text/html": [
       "<div>\n",
       "<style scoped>\n",
       "    .dataframe tbody tr th:only-of-type {\n",
       "        vertical-align: middle;\n",
       "    }\n",
       "\n",
       "    .dataframe tbody tr th {\n",
       "        vertical-align: top;\n",
       "    }\n",
       "\n",
       "    .dataframe thead th {\n",
       "        text-align: right;\n",
       "    }\n",
       "</style>\n",
       "<table border=\"1\" class=\"dataframe\">\n",
       "  <thead>\n",
       "    <tr style=\"text-align: right;\">\n",
       "      <th></th>\n",
       "      <th>day</th>\n",
       "      <th>month</th>\n",
       "      <th>sales</th>\n",
       "    </tr>\n",
       "  </thead>\n",
       "  <tbody>\n",
       "    <tr>\n",
       "      <th>count</th>\n",
       "      <td>1.016774e+06</td>\n",
       "      <td>1.016774e+06</td>\n",
       "      <td>1.016774e+06</td>\n",
       "    </tr>\n",
       "    <tr>\n",
       "      <th>mean</th>\n",
       "      <td>1.396050e+01</td>\n",
       "      <td>7.316214e+00</td>\n",
       "      <td>1.061688e+05</td>\n",
       "    </tr>\n",
       "    <tr>\n",
       "      <th>std</th>\n",
       "      <td>8.664978e+00</td>\n",
       "      <td>5.176020e-01</td>\n",
       "      <td>9.912896e+04</td>\n",
       "    </tr>\n",
       "    <tr>\n",
       "      <th>min</th>\n",
       "      <td>1.000000e+00</td>\n",
       "      <td>6.000000e+00</td>\n",
       "      <td>3.400000e+03</td>\n",
       "    </tr>\n",
       "    <tr>\n",
       "      <th>25%</th>\n",
       "      <td>7.000000e+00</td>\n",
       "      <td>7.000000e+00</td>\n",
       "      <td>4.390000e+04</td>\n",
       "    </tr>\n",
       "    <tr>\n",
       "      <th>50%</th>\n",
       "      <td>1.300000e+01</td>\n",
       "      <td>7.000000e+00</td>\n",
       "      <td>7.520000e+04</td>\n",
       "    </tr>\n",
       "    <tr>\n",
       "      <th>75%</th>\n",
       "      <td>2.100000e+01</td>\n",
       "      <td>8.000000e+00</td>\n",
       "      <td>1.342000e+05</td>\n",
       "    </tr>\n",
       "    <tr>\n",
       "      <th>max</th>\n",
       "      <td>3.100000e+01</td>\n",
       "      <td>8.000000e+00</td>\n",
       "      <td>1.526100e+06</td>\n",
       "    </tr>\n",
       "  </tbody>\n",
       "</table>\n",
       "</div>"
      ],
      "text/plain": [
       "                day         month         sales\n",
       "count  1.016774e+06  1.016774e+06  1.016774e+06\n",
       "mean   1.396050e+01  7.316214e+00  1.061688e+05\n",
       "std    8.664978e+00  5.176020e-01  9.912896e+04\n",
       "min    1.000000e+00  6.000000e+00  3.400000e+03\n",
       "25%    7.000000e+00  7.000000e+00  4.390000e+04\n",
       "50%    1.300000e+01  7.000000e+00  7.520000e+04\n",
       "75%    2.100000e+01  8.000000e+00  1.342000e+05\n",
       "max    3.100000e+01  8.000000e+00  1.526100e+06"
      ]
     },
     "execution_count": 6,
     "metadata": {},
     "output_type": "execute_result"
    }
   ],
   "source": [
    "df.describe()"
   ]
  },
  {
   "cell_type": "code",
   "execution_count": 7,
   "id": "50e7d0b8-796d-4374-9bae-c1ca35de382b",
   "metadata": {},
   "outputs": [
    {
     "data": {
      "text/plain": [
       "count    1.016774e+06\n",
       "mean     1.061688e+05\n",
       "std      9.912896e+04\n",
       "min      3.400000e+03\n",
       "25%      4.390000e+04\n",
       "50%      7.520000e+04\n",
       "75%      1.342000e+05\n",
       "max      1.526100e+06\n",
       "Name: sales, dtype: float64"
      ]
     },
     "execution_count": 7,
     "metadata": {},
     "output_type": "execute_result"
    }
   ],
   "source": [
    "df.sales.describe()"
   ]
  },
  {
   "cell_type": "code",
   "execution_count": 11,
   "id": "175fd525-5dfd-43db-b8ac-eb0b9d4654b6",
   "metadata": {},
   "outputs": [
    {
     "data": {
      "text/plain": [
       "106168.84725612575"
      ]
     },
     "execution_count": 11,
     "metadata": {},
     "output_type": "execute_result"
    }
   ],
   "source": [
    "df['sales'].mean()"
   ]
  },
  {
   "cell_type": "code",
   "execution_count": 13,
   "id": "3283c211-e75b-4bad-8ee5-e5510b04e376",
   "metadata": {},
   "outputs": [
    {
     "data": {
      "text/plain": [
       "75200.0"
      ]
     },
     "execution_count": 13,
     "metadata": {},
     "output_type": "execute_result"
    }
   ],
   "source": [
    "df['sales'].median()"
   ]
  },
  {
   "cell_type": "code",
   "execution_count": null,
   "id": "b0a7b208-caf1-471d-aa66-1bccd3e5d568",
   "metadata": {},
   "outputs": [],
   "source": []
  }
 ],
 "metadata": {
  "kernelspec": {
   "display_name": "Python 3 (ipykernel)",
   "language": "python",
   "name": "python3"
  },
  "language_info": {
   "codemirror_mode": {
    "name": "ipython",
    "version": 3
   },
   "file_extension": ".py",
   "mimetype": "text/x-python",
   "name": "python",
   "nbconvert_exporter": "python",
   "pygments_lexer": "ipython3",
   "version": "3.9.0"
  }
 },
 "nbformat": 4,
 "nbformat_minor": 5
}
